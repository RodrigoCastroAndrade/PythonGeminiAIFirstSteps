{
  "nbformat": 4,
  "nbformat_minor": 0,
  "metadata": {
    "colab": {
      "provenance": [],
      "include_colab_link": true
    },
    "kernelspec": {
      "name": "python3",
      "display_name": "Python 3"
    },
    "language_info": {
      "name": "python"
    }
  },
  "cells": [
    {
      "cell_type": "markdown",
      "metadata": {
        "id": "view-in-github",
        "colab_type": "text"
      },
      "source": [
        "<a href=\"https://colab.research.google.com/github/RodrigoCastroAndrade/PythonGeminiAIFirstSteps/blob/main/C%C3%B3pia_de_Imers%C3%A3o_IA_Alura_%2B_Google_Gemini_Aula_05_Agentes.ipynb\" target=\"_parent\"><img src=\"https://colab.research.google.com/assets/colab-badge.svg\" alt=\"Open In Colab\"/></a>"
      ]
    },
    {
      "cell_type": "code",
      "source": [
        "%pip -q install google-genai"
      ],
      "metadata": {
        "id": "UCCbECexLk_h"
      },
      "execution_count": 1,
      "outputs": []
    },
    {
      "cell_type": "code",
      "source": [
        "# Configura a API Key do Google Gemini\n",
        "\n",
        "import os\n",
        "from google.colab import userdata\n",
        "\n",
        "os.environ[\"GOOGLE_API_KEY\"] = userdata.get('GOOGLE_API_KEY')"
      ],
      "metadata": {
        "id": "NfCqHo1tLk8P"
      },
      "execution_count": 2,
      "outputs": []
    },
    {
      "cell_type": "code",
      "source": [
        "# Configura o cliente da SDK do Gemini\n",
        "\n",
        "from google import genai\n",
        "\n",
        "client = genai.Client()\n",
        "\n",
        "MODEL_ID = \"gemini-2.0-flash\""
      ],
      "metadata": {
        "id": "bV4w0H5TLk5g"
      },
      "execution_count": 3,
      "outputs": []
    },
    {
      "cell_type": "code",
      "source": [
        "# Pergunta ao Gemini uma informação mais recente que seu conhecimento\n",
        "\n",
        "from IPython.display import HTML, Markdown\n",
        "\n",
        "# Perguntar pro modelo quando é a próxima imersão de IA ###############################################\n",
        "resposta = client.models.generate_content(\n",
        "    model=MODEL_ID,\n",
        "    contents='Quando é a próxima Imersão IA com Google Gemini da Alura?',\n",
        ")\n",
        "\n",
        "# Exibe a resposta na tela\n",
        "display(Markdown(f\"Resposta:\\n {resposta.text}\"))"
      ],
      "metadata": {
        "id": "HwVP7Xi34Zuw",
        "colab": {
          "base_uri": "https://localhost:8080/",
          "height": 104
        },
        "outputId": "6a10f8cc-ec97-47a7-9106-ee59ceb7a539"
      },
      "execution_count": 4,
      "outputs": [
        {
          "output_type": "display_data",
          "data": {
            "text/plain": [
              "<IPython.core.display.Markdown object>"
            ],
            "text/markdown": "Resposta:\n A Alura não tem uma data fixa para a Imersão IA com Google Gemini. A melhor forma de saber quando a próxima edição será realizada é:\n\n*   **Acompanhar a página da Alura:** Fique de olho na página principal da Alura e na seção de cursos de Inteligência Artificial.\n*   **Seguir a Alura nas redes sociais:** A Alura costuma divulgar novas edições de seus cursos e imersões em suas redes sociais (LinkedIn, Instagram, etc.).\n*   **Assinar a newsletter da Alura:** Ao assinar a newsletter, você receberá informações sobre lançamentos e eventos da Alura diretamente no seu e-mail."
          },
          "metadata": {}
        }
      ]
    },
    {
      "cell_type": "code",
      "source": [
        "# Pergunta ao Gemini uma informação utilizando a busca do Google como contexto\n",
        "\n",
        "response = client.models.generate_content(\n",
        "    model=MODEL_ID,\n",
        "    contents='Quando é a próxima Imersão IA com Google Gemini da Alura?',\n",
        "    config = {\"tools\":  [{\"google_search\": {}}]}\n",
        ")\n",
        "\n",
        "# Exibe a resposta na tela\n",
        "display(Markdown(f\"Resposta:\\n {response.text}\"))"
      ],
      "metadata": {
        "id": "yXaZd7iZ4ftw",
        "colab": {
          "base_uri": "https://localhost:8080/",
          "height": 145
        },
        "outputId": "9ebce22e-e97f-45ec-cb08-de50691f2ca1"
      },
      "execution_count": 5,
      "outputs": [
        {
          "output_type": "display_data",
          "data": {
            "text/plain": [
              "<IPython.core.display.Markdown object>"
            ],
            "text/markdown": "Resposta:\n Com base nas informações encontradas, a Alura e o Google realizaram recentemente a \"Imersão IA com Google Gemini\". As inscrições para a edição mais recente foram até o dia 11 de maio de 2025, e as aulas ocorreram entre 12 e 16 de maio de 2025.\n\nNo momento, não há informações sobre uma próxima edição da Imersão IA com Google Gemini. Para ficar por dentro de futuras edições, você pode:\n\n*   Acessar o site da Alura e verificar a seção de imersões ou cursos de inteligência artificial.\n*   Seguir a Alura nas redes sociais para receber atualizações sobre novos eventos e cursos.\n*   Inscrever-se na newsletter da Alura para receber informações diretamente no seu e-mail."
          },
          "metadata": {}
        }
      ]
    },
    {
      "cell_type": "code",
      "source": [
        "# Exibe a busca\n",
        "print(f\"Busca realizada: {response.candidates[0].grounding_metadata.web_search_queries}\")\n",
        "# Exibe as URLs nas quais ele se baseou\n",
        "print(f\"Páginas utilizadas na resposta: {', '.join([site.web.title for site in response.candidates[0].grounding_metadata.grounding_chunks])}\")\n",
        "print()\n",
        "display(HTML(response.candidates[0].grounding_metadata.search_entry_point.rendered_content))"
      ],
      "metadata": {
        "id": "xHSNlTd84heJ",
        "colab": {
          "base_uri": "https://localhost:8080/",
          "height": 117
        },
        "outputId": "cccc0e66-6760-43cb-d3f9-4fe86298965c"
      },
      "execution_count": 6,
      "outputs": [
        {
          "output_type": "stream",
          "name": "stdout",
          "text": [
            "Busca realizada: ['Alura Imersão IA Google Gemini', 'próxima Imersão IA com Google Gemini da Alura']\n",
            "Páginas utilizadas na resposta: youtube.com, alura.com.br, starten.tech, alura.com.br, youtube.com\n",
            "\n"
          ]
        },
        {
          "output_type": "display_data",
          "data": {
            "text/plain": [
              "<IPython.core.display.HTML object>"
            ],
            "text/html": [
              "<style>\n",
              ".container {\n",
              "  align-items: center;\n",
              "  border-radius: 8px;\n",
              "  display: flex;\n",
              "  font-family: Google Sans, Roboto, sans-serif;\n",
              "  font-size: 14px;\n",
              "  line-height: 20px;\n",
              "  padding: 8px 12px;\n",
              "}\n",
              ".chip {\n",
              "  display: inline-block;\n",
              "  border: solid 1px;\n",
              "  border-radius: 16px;\n",
              "  min-width: 14px;\n",
              "  padding: 5px 16px;\n",
              "  text-align: center;\n",
              "  user-select: none;\n",
              "  margin: 0 8px;\n",
              "  -webkit-tap-highlight-color: transparent;\n",
              "}\n",
              ".carousel {\n",
              "  overflow: auto;\n",
              "  scrollbar-width: none;\n",
              "  white-space: nowrap;\n",
              "  margin-right: -12px;\n",
              "}\n",
              ".headline {\n",
              "  display: flex;\n",
              "  margin-right: 4px;\n",
              "}\n",
              ".gradient-container {\n",
              "  position: relative;\n",
              "}\n",
              ".gradient {\n",
              "  position: absolute;\n",
              "  transform: translate(3px, -9px);\n",
              "  height: 36px;\n",
              "  width: 9px;\n",
              "}\n",
              "@media (prefers-color-scheme: light) {\n",
              "  .container {\n",
              "    background-color: #fafafa;\n",
              "    box-shadow: 0 0 0 1px #0000000f;\n",
              "  }\n",
              "  .headline-label {\n",
              "    color: #1f1f1f;\n",
              "  }\n",
              "  .chip {\n",
              "    background-color: #ffffff;\n",
              "    border-color: #d2d2d2;\n",
              "    color: #5e5e5e;\n",
              "    text-decoration: none;\n",
              "  }\n",
              "  .chip:hover {\n",
              "    background-color: #f2f2f2;\n",
              "  }\n",
              "  .chip:focus {\n",
              "    background-color: #f2f2f2;\n",
              "  }\n",
              "  .chip:active {\n",
              "    background-color: #d8d8d8;\n",
              "    border-color: #b6b6b6;\n",
              "  }\n",
              "  .logo-dark {\n",
              "    display: none;\n",
              "  }\n",
              "  .gradient {\n",
              "    background: linear-gradient(90deg, #fafafa 15%, #fafafa00 100%);\n",
              "  }\n",
              "}\n",
              "@media (prefers-color-scheme: dark) {\n",
              "  .container {\n",
              "    background-color: #1f1f1f;\n",
              "    box-shadow: 0 0 0 1px #ffffff26;\n",
              "  }\n",
              "  .headline-label {\n",
              "    color: #fff;\n",
              "  }\n",
              "  .chip {\n",
              "    background-color: #2c2c2c;\n",
              "    border-color: #3c4043;\n",
              "    color: #fff;\n",
              "    text-decoration: none;\n",
              "  }\n",
              "  .chip:hover {\n",
              "    background-color: #353536;\n",
              "  }\n",
              "  .chip:focus {\n",
              "    background-color: #353536;\n",
              "  }\n",
              "  .chip:active {\n",
              "    background-color: #464849;\n",
              "    border-color: #53575b;\n",
              "  }\n",
              "  .logo-light {\n",
              "    display: none;\n",
              "  }\n",
              "  .gradient {\n",
              "    background: linear-gradient(90deg, #1f1f1f 15%, #1f1f1f00 100%);\n",
              "  }\n",
              "}\n",
              "</style>\n",
              "<div class=\"container\">\n",
              "  <div class=\"headline\">\n",
              "    <svg class=\"logo-light\" width=\"18\" height=\"18\" viewBox=\"9 9 35 35\" fill=\"none\" xmlns=\"http://www.w3.org/2000/svg\">\n",
              "      <path fill-rule=\"evenodd\" clip-rule=\"evenodd\" d=\"M42.8622 27.0064C42.8622 25.7839 42.7525 24.6084 42.5487 23.4799H26.3109V30.1568H35.5897C35.1821 32.3041 33.9596 34.1222 32.1258 35.3448V39.6864H37.7213C40.9814 36.677 42.8622 32.2571 42.8622 27.0064V27.0064Z\" fill=\"#4285F4\"/>\n",
              "      <path fill-rule=\"evenodd\" clip-rule=\"evenodd\" d=\"M26.3109 43.8555C30.9659 43.8555 34.8687 42.3195 37.7213 39.6863L32.1258 35.3447C30.5898 36.3792 28.6306 37.0061 26.3109 37.0061C21.8282 37.0061 18.0195 33.9811 16.6559 29.906H10.9194V34.3573C13.7563 39.9841 19.5712 43.8555 26.3109 43.8555V43.8555Z\" fill=\"#34A853\"/>\n",
              "      <path fill-rule=\"evenodd\" clip-rule=\"evenodd\" d=\"M16.6559 29.8904C16.3111 28.8559 16.1074 27.7588 16.1074 26.6146C16.1074 25.4704 16.3111 24.3733 16.6559 23.3388V18.8875H10.9194C9.74388 21.2072 9.06992 23.8247 9.06992 26.6146C9.06992 29.4045 9.74388 32.022 10.9194 34.3417L15.3864 30.8621L16.6559 29.8904V29.8904Z\" fill=\"#FBBC05\"/>\n",
              "      <path fill-rule=\"evenodd\" clip-rule=\"evenodd\" d=\"M26.3109 16.2386C28.85 16.2386 31.107 17.1164 32.9095 18.8091L37.8466 13.8719C34.853 11.082 30.9659 9.3736 26.3109 9.3736C19.5712 9.3736 13.7563 13.245 10.9194 18.8875L16.6559 23.3388C18.0195 19.2636 21.8282 16.2386 26.3109 16.2386V16.2386Z\" fill=\"#EA4335\"/>\n",
              "    </svg>\n",
              "    <svg class=\"logo-dark\" width=\"18\" height=\"18\" viewBox=\"0 0 48 48\" xmlns=\"http://www.w3.org/2000/svg\">\n",
              "      <circle cx=\"24\" cy=\"23\" fill=\"#FFF\" r=\"22\"/>\n",
              "      <path d=\"M33.76 34.26c2.75-2.56 4.49-6.37 4.49-11.26 0-.89-.08-1.84-.29-3H24.01v5.99h8.03c-.4 2.02-1.5 3.56-3.07 4.56v.75l3.91 2.97h.88z\" fill=\"#4285F4\"/>\n",
              "      <path d=\"M15.58 25.77A8.845 8.845 0 0 0 24 31.86c1.92 0 3.62-.46 4.97-1.31l4.79 3.71C31.14 36.7 27.65 38 24 38c-5.93 0-11.01-3.4-13.45-8.36l.17-1.01 4.06-2.85h.8z\" fill=\"#34A853\"/>\n",
              "      <path d=\"M15.59 20.21a8.864 8.864 0 0 0 0 5.58l-5.03 3.86c-.98-2-1.53-4.25-1.53-6.64 0-2.39.55-4.64 1.53-6.64l1-.22 3.81 2.98.22 1.08z\" fill=\"#FBBC05\"/>\n",
              "      <path d=\"M24 14.14c2.11 0 4.02.75 5.52 1.98l4.36-4.36C31.22 9.43 27.81 8 24 8c-5.93 0-11.01 3.4-13.45 8.36l5.03 3.85A8.86 8.86 0 0 1 24 14.14z\" fill=\"#EA4335\"/>\n",
              "    </svg>\n",
              "    <div class=\"gradient-container\"><div class=\"gradient\"></div></div>\n",
              "  </div>\n",
              "  <div class=\"carousel\">\n",
              "    <a class=\"chip\" href=\"https://vertexaisearch.cloud.google.com/grounding-api-redirect/AbF9wXG4TVy3LEI4mOV9PMTAdMtX87cVoKzF9iLKOHXV8t96KKz1jVosHyta1Em460VKwP-2ra4aTb7JFk9adxSXg5I256FaZioS70FOOqNPllhnMidzIKLx7EFAjaVreVEbLuB07u0y2TTo7E8F8pCoGDyMMNWi4CZKcHtfxgT0vTUe0wZH3XFgWY_pKHKUNw7-mvJeuP_P6cwMogwQf1LRBEvD5h_GVqtE\">Alura Imersão IA Google Gemini</a>\n",
              "    <a class=\"chip\" href=\"https://vertexaisearch.cloud.google.com/grounding-api-redirect/AbF9wXGGiaoffA4vVvY4v7rnoAqK08M30Xyu94ey08vyokXfZDLxrtYeYkfpV59e2gcvUxGCS5dvd4L05u2RiAYhMqmzu7X0ZyLbLsuWnjggEoGwk2CVqPSkkwlYr1fDtFIxD0fIUo5Br1k5T1cxfTDLSqVj2xJdt77FBqEHFqaft4AK4UZ90OGvEPJppVgeY4QHMnY1z5Cj7FO6dC2rMh0kIbzOXRlw9AzFiU55f-rfI0hDFbnikCrjJyegRTjx\">próxima Imersão IA com Google Gemini da Alura</a>\n",
              "  </div>\n",
              "</div>\n"
            ]
          },
          "metadata": {}
        }
      ]
    },
    {
      "cell_type": "code",
      "source": [
        "# Instalar Framework ADK de agentes do Google ################################################\n",
        "!pip install -q google-adk"
      ],
      "metadata": {
        "id": "hvZ3UnPI4jhJ"
      },
      "execution_count": 7,
      "outputs": []
    },
    {
      "cell_type": "code",
      "execution_count": 8,
      "metadata": {
        "id": "aePV2bdfDeoW"
      },
      "outputs": [],
      "source": [
        "from google.adk.agents import Agent\n",
        "from google.adk.runners import Runner\n",
        "from google.adk.sessions import InMemorySessionService\n",
        "from google.adk.tools import google_search\n",
        "from google.genai import types  # Para criar conteúdos (Content e Part)\n",
        "from datetime import date\n",
        "import textwrap # Para formatar melhor a saída de texto\n",
        "from IPython.display import display, Markdown # Para exibir texto formatado no Colab\n",
        "import requests # Para fazer requisições HTTP\n",
        "import warnings\n",
        "\n",
        "warnings.filterwarnings(\"ignore\")"
      ]
    },
    {
      "cell_type": "code",
      "source": [
        "# Função auxiliar que envia uma mensagem para um agente via Runner e retorna a resposta final\n",
        "def call_agent(agent: Agent, message_text: str) -> str:\n",
        "    # Cria um serviço de sessão em memória\n",
        "    session_service = InMemorySessionService()\n",
        "    # Cria uma nova sessão (você pode personalizar os IDs conforme necessário)\n",
        "    session = session_service.create_session(app_name=agent.name, user_id=\"user1\", session_id=\"session1\")\n",
        "    # Cria um Runner para o agente\n",
        "    runner = Runner(agent=agent, app_name=agent.name, session_service=session_service)\n",
        "    # Cria o conteúdo da mensagem de entrada\n",
        "    content = types.Content(role=\"user\", parts=[types.Part(text=message_text)])\n",
        "\n",
        "    final_response = \"\"\n",
        "    # Itera assincronamente pelos eventos retornados durante a execução do agente\n",
        "    for event in runner.run(user_id=\"user1\", session_id=\"session1\", new_message=content):\n",
        "        if event.is_final_response():\n",
        "          for part in event.content.parts:\n",
        "            if part.text is not None:\n",
        "              final_response += part.text\n",
        "              final_response += \"\\n\"\n",
        "    return final_response"
      ],
      "metadata": {
        "id": "_xP4lWhsS5ko"
      },
      "execution_count": 9,
      "outputs": []
    },
    {
      "cell_type": "code",
      "source": [
        "# Função auxiliar para exibir texto formatado em Markdown no Colab\n",
        "def to_markdown(text):\n",
        "  text = text.replace('•', '  *')\n",
        "  return Markdown(textwrap.indent(text, '> ', predicate=lambda _: True))"
      ],
      "metadata": {
        "id": "8dosiodaxfFR"
      },
      "execution_count": 10,
      "outputs": []
    },
    {
      "cell_type": "code",
      "source": [
        "##########################################\n",
        "# --- Agente 1: Buscador de Notícias --- #\n",
        "##########################################\n",
        "def agente_buscador(topico, data_de_hoje):\n",
        "\n",
        "    buscador = Agent(\n",
        "        name=\"agente_buscador\",\n",
        "        model=\"gemini-2.0-flash\",\n",
        "        description = \"Agente para buscar notícias no Google\",\n",
        "        tools=[google_search],\n",
        "        instruction = \"\"\"Você é um assistente de pesquisa, e sua tarefa é usar o Google Search para recuperar as últimas notícias de lançamentos muito relevantes sobre o tópico\n",
        "        abaixo. Limite a 5 lançamentos relevantes, com base na quantidade e entusiasmo das notícias sobre eles.\n",
        "        Se um tema tiver poucas notícias ou reações pouco entusiasmadas, é possível que ele não seja tão relevante, podendo ser substituído por outro mais relevante.\n",
        "        Esse lançamentos relevantes devem ser atuais, com no máximo 1 mês da data de hoje.\"\"\"\n",
        "    )\n",
        "\n",
        "    entrada_do_agente_buscador = f\"Tópico: {topico}\\nData de hoje: {data_de_hoje}\"\n",
        "\n",
        "    # Executa o agente\n",
        "    lancamentos_buscados = call_agent(buscador, entrada_do_agente_buscador)\n",
        "    return lancamentos_buscados"
      ],
      "metadata": {
        "id": "o8bqIfi_DyH8"
      },
      "execution_count": 11,
      "outputs": []
    },
    {
      "cell_type": "code",
      "source": [
        "################################################\n",
        "# --- Agente 2: Planejador de posts --- #\n",
        "################################################\n",
        "def agente_planejador(topico, lancamentos_buscados):\n",
        "    planejador = Agent(\n",
        "        name=\"agente_planejador\",\n",
        "        model=\"gemini-2.0-flash\",\n",
        "        # Inserir as instruções do Agente Planejador #################################################\n",
        "        instruction=\"\"\" Você é um planejador de conteúdo especialista em redes sociais. Com base na lista de lançamentos mais recentes e relevantes buscados,\n",
        "        você deve usar o Google Search para criar um plano sobre quais são os pontos mais relevantes que poderíamos abordar em um post sobre cada um deles.\n",
        "        Você também pode usar o Google Search para encontrar mais informações sobre os temas. Ao final, você escolherá o tema mais relevante com bases na suas pesquisa e retorná-lo,\n",
        "        junto com seus pontos mais relevantes, e um plano com os assuntos a serem abordados no post que será escrito posteriormente.\n",
        "        \"\"\",\n",
        "        description=\"Agente que planeja posts\",\n",
        "        tools=[google_search]\n",
        "    )\n",
        "\n",
        "    entrada_do_agente_planejador = f\"Tópico:{topico}\\nLançamentos buscados: {lancamentos_buscados}\"\n",
        "    # Executa o agente\n",
        "    plano_do_post = call_agent(planejador, entrada_do_agente_planejador)\n",
        "    return plano_do_post"
      ],
      "metadata": {
        "id": "y3VO1uo5_ghO"
      },
      "execution_count": 12,
      "outputs": []
    },
    {
      "cell_type": "code",
      "source": [
        "######################################\n",
        "# --- Agente 3: Redator do Post --- #\n",
        "######################################\n",
        "def agente_redator(topico, plano_de_post):\n",
        "    redator = Agent(\n",
        "        name=\"agente_redator\",\n",
        "        model=\"gemini-2.0-flash\",\n",
        "        instruction=\"\"\"\n",
        "            Você é um Redator Criativo especializado em criar posts virais para redes sociais.\n",
        "            Você escreve posts para a empresa Alura, a maior escola online de tecnologia do Brasil.\n",
        "            Utilize o tema fornecido no plano de post e os pontos mais relevantes fornecidos e, com base nisso,\n",
        "            escreva um rascunho de post para Instagram sobre o tema indicado.\n",
        "            O post deve ser engajador, informativo, com linguagem simples e incluir 2 a 4 hashtags no final.\n",
        "            \"\"\",\n",
        "        description=\"Agente redator de posts engajadores para Instagram\"\n",
        "    )\n",
        "    entrada_do_agente_redator = f\"Tópico: {topico}\\nPlano de post: {plano_de_post}\"\n",
        "    # Executa o agente\n",
        "    rascunho = call_agent(redator, entrada_do_agente_redator)\n",
        "    return rascunho"
      ],
      "metadata": {
        "id": "uOqlg2TRLVh1"
      },
      "execution_count": 13,
      "outputs": []
    },
    {
      "cell_type": "code",
      "source": [
        "##########################################\n",
        "# --- Agente 4: Revisor de Qualidade --- #\n",
        "##########################################\n",
        "def agente_revisor(topico, rascunho_gerado):\n",
        "    revisor = Agent(\n",
        "        name=\"agente_revisor\",\n",
        "        model=\"gemini-2.0-flash\",\n",
        "        instruction=\"\"\"\n",
        "            Você é um Editor e Revisor de Conteúdo meticuloso, especializado em posts para redes sociais, com foco no Instagram.\n",
        "            Por ter um público jovem, entre 18 e 30 anos, use um tom de escrita adequado.\n",
        "            Revise o rascunho de post de Instagram abaixo sobre o tópico indicado, verificando clareza, concisão, correção e tom.\n",
        "            Se o rascunho estiver bom, responda apenas 'O rascunho está ótimo e pronto para publicar!'.\n",
        "            Caso haja problemas, aponte-os e sugira melhorias.\n",
        "            \"\"\",\n",
        "        description=\"Agente revisor de post para redes sociais.\"\n",
        "    )\n",
        "    entrada_do_agente_revisor = f\"Tópico: {topico}\\nRascunho: {rascunho_gerado}\"\n",
        "    # Executa o agente\n",
        "    texto_revisado = call_agent(revisor, entrada_do_agente_revisor)\n",
        "    return texto_revisado"
      ],
      "metadata": {
        "id": "_aTb1SdkLeT6"
      },
      "execution_count": 14,
      "outputs": []
    },
    {
      "cell_type": "code",
      "source": [
        "data_de_hoje = date.today().strftime(\"%d/%m/%Y\")\n",
        "\n",
        "print(\"🚀 Iniciando o Sistema de Criação de Posts para Instagram com 4 Agentes 🚀\")\n",
        "\n",
        "# --- Obter o Tópico do Usuário ---\n",
        "topico = input(\"❓ Por favor, digite o TÓPICO sobre o qual você quer criar o post de tendências: \")\n",
        "\n",
        "# Inserir lógica do sistema de agentes ################################################\n",
        "while not topico:\n",
        "  print(\"Por favor, digite o TÓPICO!!\")\n",
        "  topico = input()\n",
        "\n",
        "print(f\"Criando o post sobre {topico}....\")\n",
        "\n",
        "lancamentos_buscados = agente_buscador(topico, data_de_hoje)\n",
        "print(\"\\n--- Resultados ---\\n\")\n",
        "display(to_markdown(lancamentos_buscados))"
      ],
      "metadata": {
        "id": "630ummxz4myx",
        "colab": {
          "base_uri": "https://localhost:8080/",
          "height": 641
        },
        "outputId": "c87cf9b7-86ed-4e47-97f0-958965db31a8"
      },
      "execution_count": 15,
      "outputs": [
        {
          "output_type": "stream",
          "name": "stdout",
          "text": [
            "🚀 Iniciando o Sistema de Criação de Posts para Instagram com 4 Agentes 🚀\n",
            "❓ Por favor, digite o TÓPICO sobre o qual você quer criar o post de tendências: engenharia mecatrônica em recife\n",
            "Criando o post sobre engenharia mecatrônica em recife....\n",
            "\n",
            "--- Resultados ---\n",
            "\n"
          ]
        },
        {
          "output_type": "display_data",
          "data": {
            "text/plain": [
              "<IPython.core.display.Markdown object>"
            ],
            "text/markdown": "> Para encontrar os lançamentos mais relevantes na área de engenharia mecatrônica em Recife, considerando notícias recentes e entusiasmo em torno dos eventos, vou realizar algumas buscas no Google.\n> \n> \n> Com base nas minhas buscas, aqui estão alguns lançamentos e eventos relevantes em engenharia mecatrônica em Recife e arredores, com um foco em notícias e oportunidades recentes:\n> \n> 1.  **SENAI Pernambuco:** O SENAI oferece diversos cursos técnicos em áreas como Automação Industrial, Eletrotécnica, Mecânica e Mecatrônica, tanto presenciais quanto a distância. Recentemente, o SENAI tem aberto editais com vagas gratuitas para cursos técnicos, sendo uma excelente oportunidade para quem busca qualificação profissional. Fique de olho no site do SENAI para os próximos editais.\n> \n> 2.  **FIAP em Recife:** A FIAP oferece o curso de Engenharia Mecatrônica – Robotics Systems & Machine Learning. O curso tem uma grade curricular voltada para a Indústria 4.0, com foco em robótica, automação e inteligência artificial. A FIAP também oferece o programa Startup One, que permite aos alunos criarem suas próprias startups na área de mecatrônica como projeto de conclusão de curso. O vestibular para ingresso em agosto de 2025 está com inscrições abertas.\n> \n> 3.  **Congresso Nacional de Ciência, Tecnologia e Engenharia de Alimentos (CONALI 2025):** Embora o foco principal seja em Engenharia de Alimentos, o evento, que será realizado em Recife, inclui uma área temática sobre Automação, Engenharia e Instalações industriais, o que pode ser relevante para engenheiros mecatrônicos que atuam na indústria de alimentos. O congresso é uma oportunidade para troca de conhecimentos e apresentação de trabalhos científicos.\n> \n> 4.  **Siemens Tech Tour em Recife (2024):** Embora este evento tenha ocorrido em maio de 2024, a Siemens realizou um Tech Tour em Recife com foco em soluções de Indústria Digital e Automação. A Siemens apresentou as mais recentes soluções para Automação de Processos, Automação Industrial e Motion Control, além de produtos elétricos de baixa tensão. É importante ficar atento aos futuros eventos da Siemens na região.\n> \n> 5.  **Laboratório de Manufatura Avançada (LMA/IIT) na UPE:** O Laboratório de Manufatura Avançada da Universidade de Pernambuco (UPE) oferece suporte a atividades relacionadas à manufatura, incluindo projetos de pesquisa, desenvolvimento e inovação. O laboratório abrange diversas áreas, incluindo Engenharia Mecatrônica, e oferece técnicas como projeto e prototipagem, usinagem CNC, visão computacional, manufatura aditiva e tratamento térmico.\n> \n> Além dessas opções, vale a pena verificar os cursos de graduação e pós-graduação em Engenharia Mecatrônica oferecidos por outras universidades e instituições de ensino em Recife, como a Universidade Federal de Pernambuco (UFPE) e o Instituto Federal de Pernambuco (IFPE).\n"
          },
          "metadata": {}
        }
      ]
    },
    {
      "cell_type": "code",
      "source": [
        "print(\"\\n-----------------------\\n\")\n",
        "plano_de_post = agente_planejador(topico, lancamentos_buscados)\n",
        "print(\"\\n--- Resultados ---\\n\")\n",
        "display(to_markdown(plano_de_post))\n",
        "\n",
        "print(\"\\n-----------------------\\n\")\n",
        "rascunho_de_post = agente_redator(topico, plano_de_post)\n",
        "print(\"\\n--- Resultados ---\\n\")\n",
        "display(to_markdown(rascunho_de_post))\n",
        "\n",
        "print(\"\\n-----------------------\\n\")\n",
        "post_final = agente_revisor(topico, rascunho_de_post)\n",
        "print(\"\\n--- Resultados ---\\n\")\n",
        "display(to_markdown(post_final))\n"
      ],
      "metadata": {
        "colab": {
          "base_uri": "https://localhost:8080/",
          "height": 1000
        },
        "id": "aNU1CcHS-dx8",
        "outputId": "a1e4cd41-a1a1-4603-822b-a1c0e7d96eb8"
      },
      "execution_count": 17,
      "outputs": [
        {
          "output_type": "stream",
          "name": "stdout",
          "text": [
            "\n",
            "-----------------------\n",
            "\n",
            "\n",
            "--- Resultados ---\n",
            "\n"
          ]
        },
        {
          "output_type": "display_data",
          "data": {
            "text/plain": [
              "<IPython.core.display.Markdown object>"
            ],
            "text/markdown": "> Com base nos lançamentos e eventos relevantes em engenharia mecatrônica em Recife, aqui está um plano de conteúdo para redes sociais, destacando os pontos mais relevantes e um plano com os assuntos a serem abordados em um post:\n> \n> **Tópico Escolhido:** FIAP em Recife: Engenharia Mecatrônica – Robotics Systems & Machine Learning\n> \n> **Relevância:**\n> \n> *   Grade curricular voltada para a Indústria 4.0, um tema de grande interesse e atualidade.\n> *   Foco em robótica, automação e inteligência artificial, áreas de alta demanda no mercado.\n> *   Programa Startup One, que incentiva o empreendedorismo e a criação de startups na área de mecatrônica.\n> *   Vestibular aberto para ingresso em agosto de 2025, um atrativo para potenciais alunos.\n> \n> **Pontos Relevantes:**\n> \n> 1.  **Indústria 4.0:** Explique como a grade curricular do curso prepara os alunos para os desafios e oportunidades da Indústria 4.0.\n> 2.  **Robótica, Automação e Inteligência Artificial:** Destaque a importância dessas áreas no mercado de trabalho e como o curso oferece uma formação completa nesses campos.\n> 3.  **Programa Startup One:** Incentive o empreendedorismo, mostrando como o programa permite aos alunos criarem suas próprias startups como projeto de conclusão de curso.\n> 4.  **Vestibular Aberto:** Informe sobre o vestibular para ingresso em agosto de 2025 e como os interessados podem se inscrever.\n> \n> **Plano do Post:**\n> \n> 1.  **Título:** \"Engenharia Mecatrônica na FIAP Recife: Prepare-se para a Indústria 4.0 e Crie sua Startup!\"\n> 2.  **Introdução:**\n>     *   Apresente a FIAP como referência em tecnologia e inovação.\n>     *   Destaque a importância da Engenharia Mecatrônica na Indústria 4.0.\n> 3.  **Corpo do Post:**\n>     *   Explique como o curso de Engenharia Mecatrônica da FIAP prepara os alunos para os desafios e oportunidades da Indústria 4.0.\n>     *   Destaque o foco em robótica, automação e inteligência artificial.\n>     *   Apresente o programa Startup One e como ele incentiva o empreendedorismo.\n>     *   Informe sobre o vestibular aberto para ingresso em agosto de 2025.\n> 4.  **Chamada para Ação:**\n>     *   Incentive os interessados a se inscreverem no vestibular.\n>     *   Convide os leitores a conhecerem mais sobre o curso no site da FIAP.\n> 5.  **Hashtags:**\n>     *   #EngenhariaMecatronica #FIAPRecife #Industria40 #Robotica #Automacao #InteligenciaArtificial #StartupOne #VestibularAberto\n> \n> \n> Com base nas informações adicionais coletadas, o plano de conteúdo foi atualizado com mais detalhes e informações relevantes para o público:\n> \n> **Tópico Escolhido:** FIAP em Recife: Engenharia Mecatrônica – Robotics Systems & Machine Learning\n> \n> **Relevância:**\n> \n> *   Curso alinhado com a Indústria 4.0, preparando profissionais para a robótica, automação e inteligência artificial.\n> *   Programa Startup One que incentiva o desenvolvimento de startups como projeto de conclusão.\n> *   Vestibular aberto para agosto de 2025.\n> \n> **Pontos Relevantes:**\n> \n> 1.  **Indústria 4.0:**\n>     *   O curso prepara os alunos para a 4ª Revolução Industrial, onde robótica, automação e mecatrônica são catalisadores de mudanças.\n>     *   Foco em sistemas automatizados, utilizando tecnologias exponenciais para manter a competitividade.\n> 2.  **Robótica, Automação e Inteligência Artificial:**\n>     *   O curso oferece aprendizado prático voltado à criação e implementação de produtos e processos inteligentes inéditos em engenharia.\n>     *   Ênfase em Inteligência Artificial, Robótica, Sensores, Design, Sistemas Embarcados e Energias Alternativas.\n> 3.  **Programa Startup One:**\n>     *   Incentiva os alunos a criarem suas próprias startups na área da Mecatrônica como projeto de conclusão de curso.\n>     *   Transforma digitalmente negócios, aliando empreendedorismo, criatividade e Design Thinking.\n> 4.  **Vestibular Aberto:**\n>     *   Inscrições abertas até 31 de julho de 2025 para o vestibular digital em 2 de agosto de 2025.\n>     *   Informações sobre o vestibular e inscrições podem ser encontradas no site da FIAP.\n> \n> **Plano do Post:**\n> \n> 1.  **Título:** \"Engenharia Mecatrônica na FIAP Recife: Prepare-se para a Indústria 4.0 e Crie sua Startup!\"\n> 2.  **Introdução:**\n>     *   Apresente a FIAP como referência em tecnologia e inovação.\n>     *   Destaque a importância da Engenharia Mecatrônica na Indústria 4.0 e o papel crucial da robótica, automação e inteligência artificial.\n> 3.  **Corpo do Post:**\n>     *   Explique como o curso prepara os alunos para os desafios e oportunidades da Indústria 4.0, com ênfase nas áreas de robótica, automação e inteligência artificial.\n>     *   Apresente o programa Startup One, incentivando o empreendedorismo e destacando como os alunos desenvolvem suas próprias startups.\n>     *   Mencione as tecnologias e metodologias disruptivas abordadas, como Nanotecnologia, Robôs Autônomos, Sensores, Inteligência Artificial e Energias Alternativas.\n>     *   Informe sobre o vestibular aberto para ingresso em agosto de 2025, com inscrições até 31 de julho, e direcione para o site da FIAP para mais informações e inscrições.\n> 4.  **Chamada para Ação:**\n>     *   Incentive os interessados a se inscreverem no vestibular.\n>     *   Convide os leitores a conhecerem mais sobre o curso e a FIAP no site oficial.\n> 5.  **Hashtags:**\n>     *   #EngenhariaMecatronica #FIAPRecife #Industria40 #Robotica #Automacao #InteligenciaArtificial #StartupOne #VestibularAberto #Inovacao #Tecnologia\n> \n"
          },
          "metadata": {}
        },
        {
          "output_type": "stream",
          "name": "stdout",
          "text": [
            "\n",
            "-----------------------\n",
            "\n",
            "\n",
            "--- Resultados ---\n",
            "\n"
          ]
        },
        {
          "output_type": "display_data",
          "data": {
            "text/plain": [
              "<IPython.core.display.Markdown object>"
            ],
            "text/markdown": "> 🚀 Engenharia Mecatrônica na FIAP Recife: A CHAVE para a Indústria 4.0! 🤖\n> \n> A FIAP, referência em tecnologia e inovação, te prepara para o futuro! 🤩 Nosso curso de Engenharia Mecatrônica te capacita para dominar a Indústria 4.0, com foco em robótica, automação e inteligência artificial. \n> \n> 💡 Imagine criar soluções inovadoras e ainda ter a chance de lançar sua própria startup com o Programa Startup One! \n> \n> 🎯 No curso, você vai mergulhar em:\n> *   Robótica\n> *   Automação\n> *   Inteligência Artificial\n> *   Sensores\n> *   Sistemas Embarcados\n> *   Energias Alternativas\n> e muito mais!\n> \n> 🗓️ As inscrições para o vestibular estão abertas até 31 de julho de 2025! Não perca essa chance de transformar o seu futuro.\n> \n> 👉 Inscreva-se agora mesmo e saiba mais sobre o curso no site da FIAP! Link na bio. 😉\n> \n> #EngenhariaMecatronica #FIAPRecife #Industria40 #Robotica #Automacao #InteligenciaArtificial #StartupOne #VestibularAberto\n> \n"
          },
          "metadata": {}
        },
        {
          "output_type": "stream",
          "name": "stdout",
          "text": [
            "\n",
            "-----------------------\n",
            "\n",
            "\n",
            "--- Resultados ---\n",
            "\n"
          ]
        },
        {
          "output_type": "display_data",
          "data": {
            "text/plain": [
              "<IPython.core.display.Markdown object>"
            ],
            "text/markdown": "> O rascunho está ótimo, mas podemos fazer alguns ajustes para deixá-lo ainda mais atraente e direto para o público do Instagram:\n> \n> *   **Emojis:** Use emojis com moderação, eles são bons para chamar a atenção, mas em excesso podem distrair.\n> *   **Chamada para Ação:** Seja mais direto na chamada para ação. Incentive o clique no link da bio de forma mais clara.\n> *   **Hashtags:** As hashtags estão boas, mas tente mesclar algumas mais específicas com outras mais genéricas para aumentar o alcance.\n> \n> **Sugestão de Rascunho Revisado:**\n> \n> 🚀 DECOLA NA INDÚSTRIA 4.0 COM A ENGENHARIA MECATRÔNICA DA FIAP RECIFE! 🤖\n> \n> Quer dominar as tecnologias do futuro e ainda ter a chance de criar sua própria startup? 🤩 Na FIAP Recife, você aprende robótica, automação, inteligência artificial e muito mais, com foco total na Indústria 4.0.\n> \n> 💡 No curso, você vai mergulhar em:\n> \n> *   Robótica\n> *   Automação\n> *   Inteligência Artificial\n> *   Sensores\n> *   Sistemas Embarcados\n> *   Energias Alternativas\n> \n> 🔥 E tem mais: com o Programa Startup One, você pode transformar sua ideia em realidade!\n> \n> 🗓️ Inscrições ABERTAS para o vestibular até 31 de julho de 2025!\n> \n> 👉 Curtiu? Então corre pro link da bio e GARANTA SUA VAGA! 😉\n> \n> #EngenhariaMecatronica #FIAPRecife #Industria40 #Robotica #Automacao #InteligenciaArtificial #StartupOne #VestibularAberto #TecnologiaRecife #Inovacao\n> \n> **Justificativas das mudanças:**\n> \n> *   **Título:** Mais direto e chamativo.\n> *   **Chamada para Ação:** Mais enfática (\"GARANTA SUA VAGA!\").\n> *   **Hashtags:** Adicionadas hashtags mais específicas para o público local (\"#TecnologiaRecife\", \"#Inovacao\").\n> *   **Remoção de um emoji:** Para não poluir visualmente o post.\n"
          },
          "metadata": {}
        }
      ]
    }
  ]
}